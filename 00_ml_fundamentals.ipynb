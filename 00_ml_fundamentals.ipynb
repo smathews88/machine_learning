{
  "nbformat": 4,
  "nbformat_minor": 0,
  "metadata": {
    "colab": {
      "provenance": [],
      "toc_visible": true,
      "mount_file_id": "187pl4yycoBAhsZaeXWpc0H7ySRZyFaH4",
      "authorship_tag": "ABX9TyNJdZfadWpMGbGzzhuOUt6B",
      "include_colab_link": true
    },
    "kernelspec": {
      "name": "python3",
      "display_name": "Python 3"
    },
    "language_info": {
      "name": "python"
    }
  },
  "cells": [
    {
      "cell_type": "markdown",
      "metadata": {
        "id": "view-in-github",
        "colab_type": "text"
      },
      "source": [
        "<a href=\"https://colab.research.google.com/github/smathews88/machine_learning/blob/main/00_ml_fundamentals.ipynb\" target=\"_parent\"><img src=\"https://colab.research.google.com/assets/colab-badge.svg\" alt=\"Open In Colab\"/></a>"
      ]
    },
    {
      "cell_type": "markdown",
      "source": [
        "# **1. AI -> ML -> DL -> ANN**\n",
        "**Artifical Intelligence (AI)**\n",
        "AI enables machines to simulate human behaviour. e.g: prediction, classification, speech recognition, image detection , natural language processing, generating text, image, audio and video.\n",
        "\n",
        "**Machine learning (ML)**\n",
        "Machine learning enables machines to learn without being explicitly programmed. Machine learning algorithms detects patterns in data and use this patterns to solve real world problems.\n",
        "\n",
        "**Deep Learning (DL)**\n",
        "Deep learning is a subset of machine learning which uses nueral network to identify patterns in data and use this patterns to solve real world problems. Deep learning is more useful when data is not structured like image recognition, natural language processing and speech recognintion.\n",
        "\n",
        "**Nueral Networks (ANN)**\n",
        "Nueral Networks are algorithms inspired by the structure and function of biological neural networks in human brains . Nueral network has layers and each layer has nodes called nuerons. Data is fed to the nueral network via input layer and output is retrived from output layer. Between input layer and output layer there are n number of hidden layers which learns patterns in input data via activation function .\n"
      ],
      "metadata": {
        "id": "5z_9dUGOdMp7"
      }
    },
    {
      "cell_type": "markdown",
      "source": [
        "# **2. How Machines learn? Types of ML Algorithms**\n",
        "\n",
        "**Supervised Learning**\n",
        "*   Learning with labelled data\n",
        "      e.g: risk assessment, image recognition, fraud detection, image classification\n",
        "*   There are 2 types of supervised learning\n",
        "      * Classification : when the output data is categorical\n",
        "        eg: spam email detection\n",
        "      * Regression : when the output data is continuous\n",
        "        eg: weather prediction\n",
        "\n",
        "**Unsupervised Learning**\n",
        "*   Learning with unlabelled data. Machine identifies patterns and groups data.\n",
        "      e.g: market basket analysis, semantic clustering, delivery store optimization, identifying accident prone area\n",
        "*   There are 2 types of unsupervised learning\n",
        "      * Clustering : dividing object into clusters\n",
        "        eg: customer segmentation\n",
        "      * Association : identify objects that are purchased together.\n",
        "        eg: recommendation engine\n",
        "\n",
        "**Reinforcement Learning**\n",
        "*   Feedback based learning"
      ],
      "metadata": {
        "id": "hh9cg2Dx1894"
      }
    },
    {
      "cell_type": "markdown",
      "source": [
        "# **3. Types of Data**\n",
        "\n",
        "\n",
        "1.   Numerical data\n",
        "2.   Categorical data\n",
        "\n"
      ],
      "metadata": {
        "id": "xtQgRfqf8SWv"
      }
    },
    {
      "cell_type": "markdown",
      "source": [
        "# **4.Supervised Learning - Regression**\n",
        "\n",
        "Regression is statistical model used to predict relationship between indepentend and depentend variables.2 factors that are important are\n",
        "1.  which indepentend variables are significant to predict the the depentend variable\n",
        "2.   Accuracy of regression line to predict depentend variable"
      ],
      "metadata": {
        "id": "vTyaDrkb8sxH"
      }
    },
    {
      "cell_type": "markdown",
      "source": [
        "# **4.1 Simple Linear Regression**\n",
        "![](https://drive.google.com/uc?export=view&id=1uBNCXnWr11keeIHm2hbHI6OZvnLZ_czy)"
      ],
      "metadata": {
        "id": "9sOoyGe9AOwu"
      }
    },
    {
      "cell_type": "markdown",
      "source": [
        "# **4.2 Multiple Linear Regression**\n",
        "\n",
        "![](https://drive.google.com/uc?export=view&id=1-8SoUQKPSJyz5wUNmbTnj3zW7NSO_REk)"
      ],
      "metadata": {
        "id": "rfUlNLbVEWdl"
      }
    },
    {
      "cell_type": "markdown",
      "source": [
        "# **4.3Logistic Regression**\n",
        "\n",
        "Logistic regression estimates the probability of an event occurring\n",
        "\n",
        "![](https://drive.google.com/uc?id=1cPdx38HKD7nblaktyb-4-GITalbS1x6f)\n",
        "\n",
        "***Math behind logistic regression***\n",
        "\n",
        "1) start by assuming p(x) be the linear function\n",
        "\n",
        "2) the problem is that p is the probability that should vary from 0 to 1.To address this problem, let us assume, log p(x) be a linear function of x . To bound it between a range of (0,1), we will use logit transformation. So\n",
        "\n",
        "<br>\n",
        "\n",
        " log(p(x)//(1-p(x))) = b0 + b1x\n",
        "\n",
        "  e<sup>ln</sup> (p(x)/(1-p(x))) = e<sup>b0 + b1x </sup>\n",
        "  \n",
        "  (p(x)//(1-p(x))) = e<sup>b0 + b1x </sup>\n",
        "\n",
        "  let Y = e<sup>b0 + b1x </sup> ; So\n",
        "\n",
        "  (p(x)/(1-p(x))) = Y\n",
        "\n",
        "  p(x) = Y - Yp(x)\n",
        "\n",
        "  p(x) (1 + Y) = Y\n",
        "\n",
        "  p(x) = e<sup>b0 + b1x </sup> / 1 + e<sup>b0 + b1x </sup>\n",
        "\n",
        "  p(x) = 1/1+ e<sup>-(b0 + b1x) </sup>\n",
        "\n",
        "\n",
        "\n",
        "\n",
        "\n",
        "\n",
        "\n",
        "\n"
      ],
      "metadata": {
        "id": "MHBf_RzRAbIZ"
      }
    },
    {
      "cell_type": "markdown",
      "source": [
        "# **4.4 Linear Regression vs Logistic Regression**\n",
        "\n",
        "<table>\n",
        "  <tr >\n",
        "    <th>Linear Regression</th>\n",
        "    <th>Logistic Regression</th>\n",
        "  </tr>\n",
        "  <tr>\n",
        "    <td>Solves regression problems</td>\n",
        "    <td>Solves classification problems</td>\n",
        "  </tr>\n",
        "  <tr>\n",
        "    <td>Output is continuous</td>\n",
        "    <td>Output is discrete</td>\n",
        "  </tr>\n",
        "   <tr>\n",
        "    <td>calculate dependent variable with indepentend variables</td>\n",
        "    <td>calculate possibility of a particular event</td>\n",
        "  </tr>\n",
        "   <tr>\n",
        "    <td>straight line</td>\n",
        "    <td>sigmoid curve</td>\n",
        "  </tr>\n",
        "</table>"
      ],
      "metadata": {
        "id": "CYroSDeQLjZs"
      }
    },
    {
      "cell_type": "markdown",
      "source": [
        "# **5. Supervised Learning - Classification**\n",
        "\n",
        "Classification is a supervised machine learning method where the model tries to predict the correct label of a given input data. The prediction task is a classification when the target variable is discrete.\n",
        "\n",
        "\n"
      ],
      "metadata": {
        "id": "6_33KbhiQaZ8"
      }
    },
    {
      "cell_type": "markdown",
      "source": [
        "# **5.1 Decision Tree**\n",
        "\n",
        "Decision tree is a tree-like structure where each internal node tests on attribute, each branch corresponds to outcome of the test and each leaf node represents the final decision or prediction.\n",
        "\n",
        "Decision tree can solve both classification and regression problems.\n",
        "\n",
        "Major terms in decision tree:\n",
        "\n",
        "**Entropy** - is the randomness in the dataset\n",
        "\n",
        "**Information gain** - Measure of decrease in entropy when dataset is split\n",
        "\n",
        "**Leaf nodes** - represent the final decision or prediction\n",
        "\n",
        "**Root Node** - Topmost decision node\n",
        "\n",
        "**Decision Node** - Decision node has two or more branches. Decision nodes test the attribute.\n",
        "\n",
        "<br/> <br/>\n",
        "\n",
        "**Math behind decision tree**\n",
        "\n",
        "Entropy = ∑<sup>k</sup><sub>i=1</sub> p(value).log<sub>2</sub>(p(value))\n",
        "\n",
        "Decision tree finds the condition with maximum less entropy or maximum information gain.\n",
        "Gain can be calculated by finding difference between subsequent entropy values.\n",
        "\n",
        "\n",
        "\n",
        "\n",
        "\n",
        "\n"
      ],
      "metadata": {
        "id": "4E9JGcIJWB6u"
      }
    },
    {
      "cell_type": "markdown",
      "source": [
        "# **5.2 Random Forest**\n",
        "\n",
        "Random Forest works by constructing multiple decision trees during training phase and the decision of majority of the trees is chosen as the final decision.\n",
        "\n",
        "Random Forest can solve both classification and regression problems.\n",
        "\n",
        "Random Forest use ensemble method.\n",
        "\n",
        "**Ensemble** means combining multiple models to make predictions rather than an individual model.\n",
        "\n",
        "Ensemble uses two types of methods:\n",
        "\n",
        "**Bagging**\n",
        "\n",
        "It creates a different training subset from sample training data with replacement & the final output is based on majority voting. For example,  Random Forest.\n",
        "\n",
        "**Boosting**\n",
        "\n",
        "It combines weak learners into strong learners by creating sequential models such that the final model has the highest accuracy. For example,  ADA BOOST, XG BOOST."
      ],
      "metadata": {
        "id": "r35Iz9ufxRS2"
      }
    },
    {
      "cell_type": "markdown",
      "source": [
        "# **5.3 Naive Bayes**\n",
        "\n",
        "Naive Bayes is based on bayes theorm which gives conditional probability of even A given event B.\n",
        "\n",
        "**Math behind Naive Bayes**\n",
        "P(A/B) = P(B/A)*P(A)/P(B)\n",
        "\n",
        "wwhere P(B/A) is conditional probability of B given A\n",
        "\n",
        "P(A) is probability of event A\n",
        "\n",
        "P(B) is probability of event B"
      ],
      "metadata": {
        "id": "WSurEF2lh5DS"
      }
    },
    {
      "cell_type": "code",
      "source": [],
      "metadata": {
        "id": "ipsa3ohnh1-S"
      },
      "execution_count": null,
      "outputs": []
    }
  ]
}